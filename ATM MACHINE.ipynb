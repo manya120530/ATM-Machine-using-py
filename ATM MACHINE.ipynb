{
 "cells": [
  {
   "cell_type": "markdown",
   "id": "54800791-2b55-435d-ba4c-2f2dc274e0dd",
   "metadata": {},
   "source": [
    "ATM MACHINE USING PYTHON"
   ]
  },
  {
   "cell_type": "markdown",
   "id": "0692e45b-7f5b-477d-92b0-79af16182729",
   "metadata": {},
   "source": [
    "Our city ATMs are built on Python, featuring a console-based application with five classes. Users enter their ID and PIN to access the system. Available operations include viewing transaction history, withdrawing, depositing, transferring funds, and quitting. This setup ensures secure and efficient banking transactions."
   ]
  },
  {
   "cell_type": "code",
   "execution_count": 15,
   "id": "3dbed3a7-f2ab-4764-a246-1afd12117ada",
   "metadata": {},
   "outputs": [
    {
     "name": "stdout",
     "output_type": "stream",
     "text": [
      "Please Enter Your Card Details\n"
     ]
    },
    {
     "name": "stdin",
     "output_type": "stream",
     "text": [
      "Enter Your CARD NUMBER (16 digits):  4536272727282828\n",
      "Enter Your CARD EXPIRY DATE (MM/YY):  12/25\n",
      "Enter Your CVV NUMBER (3 digits):  456\n"
     ]
    },
    {
     "name": "stdout",
     "output_type": "stream",
     "text": [
      "Card details accepted. Processing...\n"
     ]
    },
    {
     "name": "stdin",
     "output_type": "stream",
     "text": [
      "Enter your ATM PIN:  1234\n"
     ]
    },
    {
     "name": "stdout",
     "output_type": "stream",
     "text": [
      " \n",
      "            1 == Check Balance\n",
      "            2 == Withdraw Balance\n",
      "            3 == Deposit Balance\n",
      "            4 == Exit\n",
      "        \n"
     ]
    },
    {
     "name": "stdin",
     "output_type": "stream",
     "text": [
      "Enter your choice:  1\n"
     ]
    },
    {
     "name": "stdout",
     "output_type": "stream",
     "text": [
      "Your Current Balance is 5000\n",
      " \n",
      "            1 == Check Balance\n",
      "            2 == Withdraw Balance\n",
      "            3 == Deposit Balance\n",
      "            4 == Exit\n",
      "        \n"
     ]
    },
    {
     "name": "stdin",
     "output_type": "stream",
     "text": [
      "Enter your choice:  2\n",
      "Enter Withdraw Amount:  200\n"
     ]
    },
    {
     "name": "stdout",
     "output_type": "stream",
     "text": [
      "200 is debited from your account\n",
      "Your updated balance is 4800\n",
      " \n",
      "            1 == Check Balance\n",
      "            2 == Withdraw Balance\n",
      "            3 == Deposit Balance\n",
      "            4 == Exit\n",
      "        \n"
     ]
    },
    {
     "name": "stdin",
     "output_type": "stream",
     "text": [
      "Enter your choice:  3\n",
      "Enter Deposit Amount:  600\n"
     ]
    },
    {
     "name": "stdout",
     "output_type": "stream",
     "text": [
      "600 is credited to your account\n",
      "Your Updated Balance is 5400\n",
      " \n",
      "            1 == Check Balance\n",
      "            2 == Withdraw Balance\n",
      "            3 == Deposit Balance\n",
      "            4 == Exit\n",
      "        \n"
     ]
    },
    {
     "name": "stdin",
     "output_type": "stream",
     "text": [
      "Enter your choice:  4\n"
     ]
    },
    {
     "name": "stdout",
     "output_type": "stream",
     "text": [
      "Thank you for using our ATM. Goodbye!\n"
     ]
    }
   ],
   "source": [
    "import time\n",
    "\n",
    "print(\"Please Enter Your Card Details\")\n",
    "\n",
    "# For card processing\n",
    "time.sleep(5)\n",
    "\n",
    "card_no = input(\"Enter Your CARD NUMBER (16 digits): \")\n",
    "card_expdate = input(\"Enter Your CARD EXPIRY DATE (MM/YY): \")\n",
    "card_ccv = input(\"Enter Your CVV NUMBER (3 digits): \")\n",
    "\n",
    "print(\"Card details accepted. Processing...\")\n",
    "\n",
    "password = 1234\n",
    "\n",
    "# Taking ATM PIN from the user\n",
    "pin = int(input(\"Enter your ATM PIN: \"))\n",
    "\n",
    "# User account balance\n",
    "balance = 5000\n",
    "\n",
    "# Checking if the pin is valid\n",
    "if pin == password:\n",
    "    # Loop will run until the user chooses to exit\n",
    "    while True:\n",
    "        # Showing options to the user\n",
    "        print(\"\"\" \n",
    "            1 == Check Balance\n",
    "            2 == Withdraw Balance\n",
    "            3 == Deposit Balance\n",
    "            4 == Exit\n",
    "        \"\"\")\n",
    "\n",
    "        try:    \n",
    "            # Taking an option from the user\n",
    "            option = int(input(\"Enter your choice: \"))\n",
    "        except ValueError:\n",
    "            print(\"Enter a valid option.\")\n",
    "            continue\n",
    "        \n",
    "        # For option 1        \n",
    "        if option == 1:\n",
    "            print(f\"Your Current Balance is {balance}\")\n",
    "                                     \n",
    "        # For option 2\n",
    "        elif option == 2:\n",
    "            withdraw_amount = int(input(\"Enter Withdraw Amount: \"))\n",
    "            \n",
    "            if withdraw_amount > balance:\n",
    "                print(\"Insufficient funds.\")\n",
    "            else:\n",
    "                balance -= withdraw_amount\n",
    "                print(f\"{withdraw_amount} is debited from your account\")\n",
    "                print(f\"Your updated balance is {balance}\")\n",
    "\n",
    "        # For option 3\n",
    "        elif option == 3:\n",
    "            deposit_amount = int(input(\"Enter Deposit Amount: \"))\n",
    "            balance += deposit_amount\n",
    "            print(f\"{deposit_amount} is credited to your account\")\n",
    "            print(f\"Your Updated Balance is {balance}\")\n",
    "\n",
    "        # For option 4\n",
    "        elif option == 4:\n",
    "            print(\"Thank you for using our ATM. Goodbye!\")\n",
    "            break\n",
    "\n",
    "        else:\n",
    "            print(\"Invalid choice. Please try again.\")\n",
    "\n",
    "else:\n",
    "    print(\"WRONG PIN! Please try again...\")\n"
   ]
  }
 ],
 "metadata": {
  "kernelspec": {
   "display_name": "Python 3 (ipykernel)",
   "language": "python",
   "name": "python3"
  },
  "language_info": {
   "codemirror_mode": {
    "name": "ipython",
    "version": 3
   },
   "file_extension": ".py",
   "mimetype": "text/x-python",
   "name": "python",
   "nbconvert_exporter": "python",
   "pygments_lexer": "ipython3",
   "version": "3.11.7"
  }
 },
 "nbformat": 4,
 "nbformat_minor": 5
}
